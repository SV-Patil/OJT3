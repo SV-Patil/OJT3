{
 "cells": [
  {
   "cell_type": "markdown",
   "id": "0d03c26b-507f-4d27-bdf9-94bde85bd9b9",
   "metadata": {},
   "source": [
    "### Q3. Singular value decomposition (svd)\n",
    "perform singular value decomposition on the matrix A obtained in question 2. separate and print matrices U, sigma, VT. Verify that A equals the product of U, sigma, VT. Additionally find the rank 2, 3 approximations of matrix A."
   ]
  },
  {
   "cell_type": "code",
   "execution_count": 2,
   "id": "522d7948-0098-49fa-8a12-2e5560692a3d",
   "metadata": {},
   "outputs": [],
   "source": [
    "import numpy as np\n",
    "import sympy as sp"
   ]
  },
  {
   "cell_type": "code",
   "execution_count": 3,
   "id": "8425c5d5-1373-47ad-a108-0957a8dd2742",
   "metadata": {},
   "outputs": [
    {
     "data": {
      "text/plain": [
       "array([[9, 9, 5, 1, 4],\n",
       "       [4, 9, 0, 0, 8],\n",
       "       [2, 4, 0, 1, 2],\n",
       "       [4, 0, 5, 2, 3],\n",
       "       [8, 2, 5, 9, 4]])"
      ]
     },
     "execution_count": 3,
     "metadata": {},
     "output_type": "execute_result"
    }
   ],
   "source": [
    "np.random.seed(16)\n",
    "A = np.random.randint(0,10,(5,5))\n",
    "A"
   ]
  },
  {
   "cell_type": "code",
   "execution_count": 4,
   "id": "410f1e53-e51e-4d50-a963-71a475578b30",
   "metadata": {},
   "outputs": [],
   "source": [
    "U,s,vt = np.linalg.svd(A)"
   ]
  },
  {
   "cell_type": "code",
   "execution_count": 5,
   "id": "5681afa4-8c8d-4eb9-ad9e-90123f9c9abb",
   "metadata": {},
   "outputs": [
    {
     "name": "stdout",
     "output_type": "stream",
     "text": [
      "The matrix U is :\n"
     ]
    },
    {
     "data": {
      "text/latex": [
       "$\\displaystyle \\left[\\begin{matrix}-0.6202 & -0.1787 & 0.6934 & 0.2845 & 0.1473\\\\-0.4803 & -0.6114 & -0.497 & -0.3261 & 0.2053\\\\-0.2013 & -0.1768 & -0.1612 & 0.3081 & -0.8985\\\\-0.2628 & 0.3247 & 0.2504 & -0.8096 & -0.3276\\\\-0.5245 & 0.6764 & -0.4284 & 0.2496 & 0.1468\\end{matrix}\\right]$"
      ],
      "text/plain": [
       "Matrix([\n",
       "[-0.6202, -0.1787,  0.6934,  0.2845,  0.1473],\n",
       "[-0.4803, -0.6114,  -0.497, -0.3261,  0.2053],\n",
       "[-0.2013, -0.1768, -0.1612,  0.3081, -0.8985],\n",
       "[-0.2628,  0.3247,  0.2504, -0.8096, -0.3276],\n",
       "[-0.5245,  0.6764, -0.4284,  0.2496,  0.1468]])"
      ]
     },
     "execution_count": 5,
     "metadata": {},
     "output_type": "execute_result"
    }
   ],
   "source": [
    "print(\"The matrix U is :\")\n",
    "sp.Matrix(np.round(U,4))"
   ]
  },
  {
   "cell_type": "code",
   "execution_count": 6,
   "id": "bb91b9db-ab5d-4958-861b-69ddc2ad291b",
   "metadata": {},
   "outputs": [
    {
     "name": "stdout",
     "output_type": "stream",
     "text": [
      "The matrix s is :\n"
     ]
    },
    {
     "data": {
      "text/latex": [
       "$\\displaystyle \\left[\\begin{matrix}22.1357 & 0 & 0 & 0 & 0\\\\0 & 10.4851 & 0 & 0 & 0\\\\0 & 0 & 4.8092 & 0 & 0\\\\0 & 0 & 0 & 3.2935 & 0\\\\0 & 0 & 0 & 0 & 0.3142\\end{matrix}\\right]$"
      ],
      "text/plain": [
       "Matrix([\n",
       "[22.1357,       0,      0,      0,      0],\n",
       "[      0, 10.4851,      0,      0,      0],\n",
       "[      0,       0, 4.8092,      0,      0],\n",
       "[      0,       0,      0, 3.2935,      0],\n",
       "[      0,       0,      0,      0, 0.3142]])"
      ]
     },
     "execution_count": 6,
     "metadata": {},
     "output_type": "execute_result"
    }
   ],
   "source": [
    "print(\"The matrix s is :\")\n",
    "#print(s.shape)\n",
    "sigma = np.zeros((5,5))\n",
    "sigma[:5,:5] = np.diag(s)\n",
    "sp.Matrix(np.round(sigma,4))"
   ]
  },
  {
   "cell_type": "code",
   "execution_count": 7,
   "id": "60d18cfd-9ed0-40ac-826d-6f75c83f1891",
   "metadata": {},
   "outputs": [
    {
     "name": "stdout",
     "output_type": "stream",
     "text": [
      "The matrix vt is :\n"
     ]
    },
    {
     "data": {
      "text/latex": [
       "$\\displaystyle \\left[\\begin{matrix}-0.5942 & -0.5312 & -0.3179 & -0.2741 & -0.4342\\\\0.2196 & -0.6166 & 0.3922 & 0.6086 & -0.2175\\\\0.3127 & 0.0552 & 0.5358 & -0.587 & -0.5172\\\\0.1915 & 0.4122 & -0.4183 & 0.3703 & -0.6937\\\\0.6814 & -0.4057 & -0.532 & -0.2698 & 0.1238\\end{matrix}\\right]$"
      ],
      "text/plain": [
       "Matrix([\n",
       "[-0.5942, -0.5312, -0.3179, -0.2741, -0.4342],\n",
       "[ 0.2196, -0.6166,  0.3922,  0.6086, -0.2175],\n",
       "[ 0.3127,  0.0552,  0.5358,  -0.587, -0.5172],\n",
       "[ 0.1915,  0.4122, -0.4183,  0.3703, -0.6937],\n",
       "[ 0.6814, -0.4057,  -0.532, -0.2698,  0.1238]])"
      ]
     },
     "execution_count": 7,
     "metadata": {},
     "output_type": "execute_result"
    }
   ],
   "source": [
    "print(\"The matrix vt is :\")\n",
    "sp.Matrix(np.round(vt,4))"
   ]
  },
  {
   "cell_type": "code",
   "execution_count": 12,
   "id": "6912dd11-6361-4a58-9ea7-042ff350411c",
   "metadata": {},
   "outputs": [
    {
     "data": {
      "text/plain": [
       "array([[ True,  True,  True,  True,  True],\n",
       "       [ True,  True,  True,  True,  True],\n",
       "       [ True,  True,  True,  True,  True],\n",
       "       [ True,  True,  True,  True,  True],\n",
       "       [ True,  True,  True,  True,  True]])"
      ]
     },
     "execution_count": 12,
     "metadata": {},
     "output_type": "execute_result"
    }
   ],
   "source": [
    "np.round(U@sigma@vt,2) == A"
   ]
  },
  {
   "cell_type": "code",
   "execution_count": 13,
   "id": "e682f1c1-fb9c-4364-aeae-dee8d7e5e38d",
   "metadata": {},
   "outputs": [
    {
     "name": "stdout",
     "output_type": "stream",
     "text": [
      "Rank  2  approximation:  5.83727178565295\n",
      "Rank  3  approximation:  3.3084095350959273\n"
     ]
    }
   ],
   "source": [
    "for i in range(2,4):\n",
    "    U1 = U[:,:i]\n",
    "    s1 = sigma[:i,:i]\n",
    "    v1 = vt[:i,:]\n",
    "    A1 = U1@s1@v1\n",
    "    sp.Matrix(np.round(A1,4))\n",
    "    print(\"Rank \",i,\" approximation: \",np.linalg.norm(A-A1))"
   ]
  },
  {
   "cell_type": "code",
   "execution_count": null,
   "id": "64dc7f6a-52d9-4d99-a40e-48eef8cf1fc7",
   "metadata": {},
   "outputs": [],
   "source": []
  }
 ],
 "metadata": {
  "kernelspec": {
   "display_name": "Python 3 (ipykernel)",
   "language": "python",
   "name": "python3"
  },
  "language_info": {
   "codemirror_mode": {
    "name": "ipython",
    "version": 3
   },
   "file_extension": ".py",
   "mimetype": "text/x-python",
   "name": "python",
   "nbconvert_exporter": "python",
   "pygments_lexer": "ipython3",
   "version": "3.11.4"
  }
 },
 "nbformat": 4,
 "nbformat_minor": 5
}
